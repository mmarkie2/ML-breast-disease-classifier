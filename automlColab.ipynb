{
 "cells": [
  {
   "cell_type": "code",
   "execution_count": 31,
   "metadata": {
    "colab": {},
    "colab_type": "code",
    "id": "J12bjEGY4Rew"
   },
   "outputs": [],
   "source": [
    "# Uploading \"BreastTissue.xls\"\n",
    "\n",
    "# from google.colab import files\n",
    "# uploaded = files.upload()\n"
   ]
  },
  {
   "cell_type": "code",
   "execution_count": 32,
   "metadata": {
    "colab": {
     "base_uri": "https://localhost:8080/",
     "height": 693
    },
    "colab_type": "code",
    "id": "wvrZnket2Vhp",
    "outputId": "c313b7c9-dfa3-488a-ba39-6df6d35c96fc"
   },
   "outputs": [
    {
     "name": "stdout",
     "output_type": "stream",
     "text": [
      "Reading package lists... Done\n",
      "Building dependency tree       \n",
      "Reading state information... Done\n",
      "default-jre is already the newest version (2:1.11-68ubuntu1~18.04.1).\n",
      "The following package was automatically installed and is no longer required:\n",
      "  libnvidia-common-440\n",
      "Use 'apt autoremove' to remove it.\n",
      "0 upgraded, 0 newly installed, 0 to remove and 33 not upgraded.\n",
      "openjdk version \"11.0.7\" 2020-04-14\n",
      "OpenJDK Runtime Environment (build 11.0.7+10-post-Ubuntu-2ubuntu218.04)\n",
      "OpenJDK 64-Bit Server VM (build 11.0.7+10-post-Ubuntu-2ubuntu218.04, mixed mode, sharing)\n",
      "Requirement already satisfied: h2o in /usr/local/lib/python3.6/dist-packages (3.30.0.6)\n",
      "Requirement already satisfied: requests in /usr/local/lib/python3.6/dist-packages (from h2o) (2.23.0)\n",
      "Requirement already satisfied: future in /usr/local/lib/python3.6/dist-packages (from h2o) (0.16.0)\n",
      "Requirement already satisfied: colorama>=0.3.8 in /usr/local/lib/python3.6/dist-packages (from h2o) (0.4.3)\n",
      "Requirement already satisfied: tabulate in /usr/local/lib/python3.6/dist-packages (from h2o) (0.8.7)\n",
      "Requirement already satisfied: certifi>=2017.4.17 in /usr/local/lib/python3.6/dist-packages (from requests->h2o) (2020.6.20)\n",
      "Requirement already satisfied: urllib3!=1.25.0,!=1.25.1,<1.26,>=1.21.1 in /usr/local/lib/python3.6/dist-packages (from requests->h2o) (1.24.3)\n",
      "Requirement already satisfied: chardet<4,>=3.0.2 in /usr/local/lib/python3.6/dist-packages (from requests->h2o) (3.0.4)\n",
      "Requirement already satisfied: idna<3,>=2.5 in /usr/local/lib/python3.6/dist-packages (from requests->h2o) (2.9)\n",
      "Checking whether there is an H2O instance running at http://localhost:54321 . connected.\n"
     ]
    },
    {
     "data": {
      "text/html": [
       "<div style=\"overflow:auto\"><table style=\"width:50%\"><tr><td>H2O_cluster_uptime:</td>\n",
       "<td>53 mins 15 secs</td></tr>\n",
       "<tr><td>H2O_cluster_timezone:</td>\n",
       "<td>Etc/UTC</td></tr>\n",
       "<tr><td>H2O_data_parsing_timezone:</td>\n",
       "<td>UTC</td></tr>\n",
       "<tr><td>H2O_cluster_version:</td>\n",
       "<td>3.30.0.6</td></tr>\n",
       "<tr><td>H2O_cluster_version_age:</td>\n",
       "<td>11 days </td></tr>\n",
       "<tr><td>H2O_cluster_name:</td>\n",
       "<td>H2O_from_python_unknownUser_863ke4</td></tr>\n",
       "<tr><td>H2O_cluster_total_nodes:</td>\n",
       "<td>1</td></tr>\n",
       "<tr><td>H2O_cluster_free_memory:</td>\n",
       "<td>3.999 Gb</td></tr>\n",
       "<tr><td>H2O_cluster_total_cores:</td>\n",
       "<td>2</td></tr>\n",
       "<tr><td>H2O_cluster_allowed_cores:</td>\n",
       "<td>2</td></tr>\n",
       "<tr><td>H2O_cluster_status:</td>\n",
       "<td>locked, healthy</td></tr>\n",
       "<tr><td>H2O_connection_url:</td>\n",
       "<td>http://localhost:54321</td></tr>\n",
       "<tr><td>H2O_connection_proxy:</td>\n",
       "<td>{\"http\": null, \"https\": null}</td></tr>\n",
       "<tr><td>H2O_internal_security:</td>\n",
       "<td>False</td></tr>\n",
       "<tr><td>H2O_API_Extensions:</td>\n",
       "<td>Amazon S3, XGBoost, Algos, AutoML, Core V3, TargetEncoder, Core V4</td></tr>\n",
       "<tr><td>Python_version:</td>\n",
       "<td>3.6.9 final</td></tr></table></div>"
      ],
      "text/plain": [
       "--------------------------  ------------------------------------------------------------------\n",
       "H2O_cluster_uptime:         53 mins 15 secs\n",
       "H2O_cluster_timezone:       Etc/UTC\n",
       "H2O_data_parsing_timezone:  UTC\n",
       "H2O_cluster_version:        3.30.0.6\n",
       "H2O_cluster_version_age:    11 days\n",
       "H2O_cluster_name:           H2O_from_python_unknownUser_863ke4\n",
       "H2O_cluster_total_nodes:    1\n",
       "H2O_cluster_free_memory:    3.999 Gb\n",
       "H2O_cluster_total_cores:    2\n",
       "H2O_cluster_allowed_cores:  2\n",
       "H2O_cluster_status:         locked, healthy\n",
       "H2O_connection_url:         http://localhost:54321\n",
       "H2O_connection_proxy:       {\"http\": null, \"https\": null}\n",
       "H2O_internal_security:      False\n",
       "H2O_API_Extensions:         Amazon S3, XGBoost, Algos, AutoML, Core V3, TargetEncoder, Core V4\n",
       "Python_version:             3.6.9 final\n",
       "--------------------------  ------------------------------------------------------------------"
      ]
     },
     "metadata": {
      "tags": []
     },
     "output_type": "display_data"
    },
    {
     "name": "stdout",
     "output_type": "stream",
     "text": [
      "Parse progress: |█████████████████████████████████████████████████████████| 100%\n"
     ]
    }
   ],
   "source": [
    "! apt-get install default-jre\n",
    "!java -version\n",
    "! pip install h2o\n",
    "\n",
    "# Load the H2O library and start up the H2O cluter locally\n",
    "import h2o\n",
    "from h2o.automl import H2OAutoML\n",
    "\n",
    "import pandas as pd\n",
    "h2o.init(nthreads = -1, max_mem_size = 4)\n",
    "\n",
    "readFile = pd.read_excel (uploaded[\"BreastTissue.xls\"], 'Data')\n",
    "readFile.to_csv (\"BreastTissue.csv\", index = None, header=True)\n",
    "\n",
    "# Import a sample binary outcome train/test set into H2O\n",
    "train = h2o.import_file(\"BreastTissue.csv\")\n",
    "\n",
    "x = train.columns\n",
    "y=\"Class\"\n",
    "x.remove(y)\n",
    "# Removing case index which doesnt influence data\n",
    "x.remove(\"Case #\")\n",
    "# Run AutoML (limited to 1 hour max runtime by default)\n",
    "aml = H2OAutoML(max_models=50, seed=1)"
   ]
  },
  {
   "cell_type": "code",
   "execution_count": 33,
   "metadata": {
    "colab": {
     "base_uri": "https://localhost:8080/",
     "height": 357
    },
    "colab_type": "code",
    "id": "rQUgMRoa7wcO",
    "outputId": "cb804812-e617-4e99-a45f-83446eac69d0"
   },
   "outputs": [
    {
     "name": "stdout",
     "output_type": "stream",
     "text": [
      "AutoML progress: |████████████\n",
      "12:56:07.82: Skipping training of model GBM_5_AutoML_20200712_125521 due to exception: water.exceptions.H2OModelBuilderIllegalArgumentException: Illegal argument(s) for GBM model: GBM_5_AutoML_20200712_125521.  Details: ERRR on field: _min_rows: The dataset size is too small to split for min_rows=100.0: must have at least 200.0 (weighted) rows, but have only 106.0.\n",
      "\n",
      "\n",
      "████████████████████████████████████████████| 100%\n",
      "leader\n"
     ]
    },
    {
     "data": {
      "text/html": [
       "<table>\n",
       "<thead>\n",
       "<tr><th>model_id                                           </th><th style=\"text-align: right;\">  mean_per_class_error</th><th style=\"text-align: right;\">  logloss</th><th style=\"text-align: right;\">    rmse</th><th style=\"text-align: right;\">     mse</th></tr>\n",
       "</thead>\n",
       "<tbody>\n",
       "<tr><td>DeepLearning_grid__1_AutoML_20200712_125521_model_3</td><td style=\"text-align: right;\">              0.253307</td><td style=\"text-align: right;\"> 1.69341 </td><td style=\"text-align: right;\">0.484863</td><td style=\"text-align: right;\">0.235092</td></tr>\n",
       "<tr><td>XGBoost_grid__1_AutoML_20200712_125521_model_12    </td><td style=\"text-align: right;\">              0.25999 </td><td style=\"text-align: right;\"> 0.788367</td><td style=\"text-align: right;\">0.518195</td><td style=\"text-align: right;\">0.268527</td></tr>\n",
       "<tr><td>XGBoost_1_AutoML_20200712_125521                   </td><td style=\"text-align: right;\">              0.25999 </td><td style=\"text-align: right;\"> 0.821389</td><td style=\"text-align: right;\">0.523756</td><td style=\"text-align: right;\">0.27432 </td></tr>\n",
       "<tr><td>XGBoost_grid__1_AutoML_20200712_125521_model_3     </td><td style=\"text-align: right;\">              0.270043</td><td style=\"text-align: right;\"> 1.11289 </td><td style=\"text-align: right;\">0.656244</td><td style=\"text-align: right;\">0.430656</td></tr>\n",
       "<tr><td>DeepLearning_grid__3_AutoML_20200712_125521_model_4</td><td style=\"text-align: right;\">              0.271341</td><td style=\"text-align: right;\"> 3.1305  </td><td style=\"text-align: right;\">0.524244</td><td style=\"text-align: right;\">0.274832</td></tr>\n",
       "<tr><td>GBM_grid__1_AutoML_20200712_125521_model_4         </td><td style=\"text-align: right;\">              0.274639</td><td style=\"text-align: right;\"> 0.857701</td><td style=\"text-align: right;\">0.482326</td><td style=\"text-align: right;\">0.232638</td></tr>\n",
       "<tr><td>DeepLearning_grid__2_AutoML_20200712_125521_model_4</td><td style=\"text-align: right;\">              0.275237</td><td style=\"text-align: right;\"> 2.30591 </td><td style=\"text-align: right;\">0.504   </td><td style=\"text-align: right;\">0.254016</td></tr>\n",
       "<tr><td>XGBoost_grid__1_AutoML_20200712_125521_model_7     </td><td style=\"text-align: right;\">              0.275334</td><td style=\"text-align: right;\"> 0.785947</td><td style=\"text-align: right;\">0.501346</td><td style=\"text-align: right;\">0.251348</td></tr>\n",
       "<tr><td>StackedEnsemble_AllModels_AutoML_20200712_125521   </td><td style=\"text-align: right;\">              0.285122</td><td style=\"text-align: right;\"> 0.978002</td><td style=\"text-align: right;\">0.567106</td><td style=\"text-align: right;\">0.321609</td></tr>\n",
       "<tr><td>GBM_1_AutoML_20200712_125521                       </td><td style=\"text-align: right;\">              0.287602</td><td style=\"text-align: right;\"> 1.02532 </td><td style=\"text-align: right;\">0.503901</td><td style=\"text-align: right;\">0.253916</td></tr>\n",
       "</tbody>\n",
       "</table>"
      ]
     },
     "metadata": {
      "tags": []
     },
     "output_type": "display_data"
    },
    {
     "name": "stdout",
     "output_type": "stream",
     "text": [
      "\n"
     ]
    }
   ],
   "source": [
    "aml.train(x=x, y=y, training_frame=train)\n",
    "# View the AutoML Leaderboard\n",
    "lb = aml.leaderboard\n",
    "print(\"leader\")\n",
    "print(lb)"
   ]
  },
  {
   "cell_type": "code",
   "execution_count": 34,
   "metadata": {
    "colab": {
     "base_uri": "https://localhost:8080/",
     "height": 35
    },
    "colab_type": "code",
    "id": "w-6ZP4KC71BS",
    "outputId": "a1b81976-6ae5-4f88-96b8-cbbd1d0d1172"
   },
   "outputs": [
    {
     "data": {
      "application/vnd.google.colaboratory.intrinsic": {
       "type": "string"
      },
      "text/plain": [
       "'/content/DeepLearning_grid__1_AutoML_20200712_125521_model_3.zip'"
      ]
     },
     "execution_count": 34,
     "metadata": {
      "tags": []
     },
     "output_type": "execute_result"
    }
   ],
   "source": [
    "\n",
    "model_id=aml.leader.params[\"model_id\"][\"actual\"][\"name\"]\n",
    "h2o.get_model(model_id).download_mojo()\n"
   ]
  },
  {
   "cell_type": "code",
   "execution_count": 35,
   "metadata": {
    "colab": {
     "base_uri": "https://localhost:8080/",
     "height": 293
    },
    "colab_type": "code",
    "id": "BaOJb8Og-QBV",
    "outputId": "58e994b8-b3f2-4713-8231-b046780170ef"
   },
   "outputs": [
    {
     "name": "stdout",
     "output_type": "stream",
     "text": [
      "\n",
      "Confusion Matrix: Row labels: Actual class; Column labels: Predicted class\n"
     ]
    },
    {
     "data": {
      "text/html": [
       "<div>\n",
       "<style scoped>\n",
       "    .dataframe tbody tr th:only-of-type {\n",
       "        vertical-align: middle;\n",
       "    }\n",
       "\n",
       "    .dataframe tbody tr th {\n",
       "        vertical-align: top;\n",
       "    }\n",
       "\n",
       "    .dataframe thead th {\n",
       "        text-align: right;\n",
       "    }\n",
       "</style>\n",
       "<table border=\"1\" class=\"dataframe\">\n",
       "  <thead>\n",
       "    <tr style=\"text-align: right;\">\n",
       "      <th></th>\n",
       "      <th>adi</th>\n",
       "      <th>car</th>\n",
       "      <th>con</th>\n",
       "      <th>fad</th>\n",
       "      <th>gla</th>\n",
       "      <th>mas</th>\n",
       "      <th>Error</th>\n",
       "      <th>Rate</th>\n",
       "    </tr>\n",
       "  </thead>\n",
       "  <tbody>\n",
       "    <tr>\n",
       "      <th>0</th>\n",
       "      <td>22.0</td>\n",
       "      <td>0.0</td>\n",
       "      <td>0.0</td>\n",
       "      <td>0.0</td>\n",
       "      <td>0.0</td>\n",
       "      <td>0.0</td>\n",
       "      <td>0.000000</td>\n",
       "      <td>0 / 22</td>\n",
       "    </tr>\n",
       "    <tr>\n",
       "      <th>1</th>\n",
       "      <td>0.0</td>\n",
       "      <td>19.0</td>\n",
       "      <td>0.0</td>\n",
       "      <td>1.0</td>\n",
       "      <td>0.0</td>\n",
       "      <td>1.0</td>\n",
       "      <td>0.095238</td>\n",
       "      <td>2 / 21</td>\n",
       "    </tr>\n",
       "    <tr>\n",
       "      <th>2</th>\n",
       "      <td>0.0</td>\n",
       "      <td>0.0</td>\n",
       "      <td>14.0</td>\n",
       "      <td>0.0</td>\n",
       "      <td>0.0</td>\n",
       "      <td>0.0</td>\n",
       "      <td>0.000000</td>\n",
       "      <td>0 / 14</td>\n",
       "    </tr>\n",
       "    <tr>\n",
       "      <th>3</th>\n",
       "      <td>0.0</td>\n",
       "      <td>1.0</td>\n",
       "      <td>0.0</td>\n",
       "      <td>12.0</td>\n",
       "      <td>2.0</td>\n",
       "      <td>0.0</td>\n",
       "      <td>0.200000</td>\n",
       "      <td>3 / 15</td>\n",
       "    </tr>\n",
       "    <tr>\n",
       "      <th>4</th>\n",
       "      <td>0.0</td>\n",
       "      <td>0.0</td>\n",
       "      <td>0.0</td>\n",
       "      <td>0.0</td>\n",
       "      <td>15.0</td>\n",
       "      <td>1.0</td>\n",
       "      <td>0.062500</td>\n",
       "      <td>1 / 16</td>\n",
       "    </tr>\n",
       "    <tr>\n",
       "      <th>5</th>\n",
       "      <td>0.0</td>\n",
       "      <td>2.0</td>\n",
       "      <td>0.0</td>\n",
       "      <td>1.0</td>\n",
       "      <td>3.0</td>\n",
       "      <td>12.0</td>\n",
       "      <td>0.333333</td>\n",
       "      <td>6 / 18</td>\n",
       "    </tr>\n",
       "    <tr>\n",
       "      <th>6</th>\n",
       "      <td>22.0</td>\n",
       "      <td>22.0</td>\n",
       "      <td>14.0</td>\n",
       "      <td>14.0</td>\n",
       "      <td>20.0</td>\n",
       "      <td>14.0</td>\n",
       "      <td>0.113208</td>\n",
       "      <td>12 / 106</td>\n",
       "    </tr>\n",
       "  </tbody>\n",
       "</table>\n",
       "</div>"
      ],
      "text/plain": [
       "    adi   car   con   fad   gla   mas     Error      Rate\n",
       "0  22.0   0.0   0.0   0.0   0.0   0.0  0.000000    0 / 22\n",
       "1   0.0  19.0   0.0   1.0   0.0   1.0  0.095238    2 / 21\n",
       "2   0.0   0.0  14.0   0.0   0.0   0.0  0.000000    0 / 14\n",
       "3   0.0   1.0   0.0  12.0   2.0   0.0  0.200000    3 / 15\n",
       "4   0.0   0.0   0.0   0.0  15.0   1.0  0.062500    1 / 16\n",
       "5   0.0   2.0   0.0   1.0   3.0  12.0  0.333333    6 / 18\n",
       "6  22.0  22.0  14.0  14.0  20.0  14.0  0.113208  12 / 106"
      ]
     },
     "metadata": {
      "tags": []
     },
     "output_type": "display_data"
    },
    {
     "data": {
      "text/plain": []
     },
     "execution_count": 35,
     "metadata": {
      "tags": []
     },
     "output_type": "execute_result"
    }
   ],
   "source": [
    "aml.leader.confusion_matrix(train)"
   ]
  }
 ],
 "metadata": {
  "accelerator": "GPU",
  "colab": {
   "name": "automl.ipynb",
   "provenance": []
  },
  "kernelspec": {
   "display_name": "Python 3",
   "language": "python",
   "name": "python3"
  },
  "language_info": {
   "codemirror_mode": {
    "name": "ipython",
    "version": 3
   },
   "file_extension": ".py",
   "mimetype": "text/x-python",
   "name": "python",
   "nbconvert_exporter": "python",
   "pygments_lexer": "ipython3",
   "version": "3.7.3"
  }
 },
 "nbformat": 4,
 "nbformat_minor": 1
}
